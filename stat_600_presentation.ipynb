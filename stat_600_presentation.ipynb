{
  "nbformat": 4,
  "nbformat_minor": 0,
  "metadata": {
    "colab": {
      "name": "stat-600-presentation.ipynb",
      "provenance": [],
      "collapsed_sections": [],
      "include_colab_link": true
    },
    "kernelspec": {
      "name": "python3",
      "display_name": "Python 3"
    },
    "accelerator": "GPU"
  },
  "cells": [
    {
      "cell_type": "markdown",
      "metadata": {
        "id": "view-in-github",
        "colab_type": "text"
      },
      "source": [
        "<a href=\"https://colab.research.google.com/github/DylanLoader/Statistics-600-seminar/blob/master/stat_600_presentation.ipynb\" target=\"_parent\"><img src=\"https://colab.research.google.com/assets/colab-badge.svg\" alt=\"Open In Colab\"/></a>"
      ]
    },
    {
      "cell_type": "markdown",
      "metadata": {
        "id": "oTLZDP16S7pK",
        "colab_type": "text"
      },
      "source": [
        "# Image Classification with Google Colab\n",
        "## Author: Dylan Loader\n",
        "\n",
        "\n",
        "\n",
        "---\n",
        "\n",
        "\n",
        "\n",
        "---\n",
        "\n",
        "\n",
        "\n",
        "## What is Google Colaboratory?\n",
        "\n",
        "- A free google based notebook with R, Python, and Markdown support\n",
        "- Google Drive Integration\n",
        "- Comes with a large number of pre-installed packages\n",
        "- Access to Graphics Processing Units (GPUs) and Tensor Processing Units (TPUs)\n",
        "- Easy error handling with Stackoverflow integration\n",
        "- Connectivity with cloud resources such as Google Cloud\n"
      ]
    },
    {
      "cell_type": "markdown",
      "metadata": {
        "id": "musU69zHihBN",
        "colab_type": "text"
      },
      "source": [
        "# The MNIST Handwritten Dataset\n",
        "\n",
        "---\n",
        "\n",
        "- The MNIST dataset consists of 70,000 black and white images of handwritten digits provided by Dr. Yann LeCun\n",
        "- The images are available as 28x28 pixel images (usually represented as 28x28x1 vector)\n",
        "\n",
        "![](https://upload.wikimedia.org/wikipedia/commons/2/27/MnistExamples.png)\n",
        "\n",
        "Source: https://upload.wikimedia.org/wikipedia/commons/2/27/MnistExamples.png\n",
        "\n",
        "![](https://koenig-media.raywenderlich.com/uploads/2018/01/firstXsample.png)\n",
        "Source: https://koenig-media.raywenderlich.com"
      ]
    },
    {
      "cell_type": "markdown",
      "metadata": {
        "id": "6_NWf_9CS3Ft",
        "colab_type": "text"
      },
      "source": [
        "# A 5-10 minute Crash Course in Convolutional Neural Nets (CNNs)\n",
        "\n",
        "---\n",
        "\n",
        "\n",
        "## Motivation for CNNs over NN\n",
        "\n",
        "- Good for sequentially related data (images/audio/text)\n",
        "- Ease of computing relative to large Neural Networks\n",
        "- Frequently used in Computer Vision\n",
        "- Generalize better to data that is distrorted such as rotations and blur\n",
        "\n",
        "\n",
        "\n",
        "#### Ex. Labradoodle vs. Fried Chicken\n",
        "\n",
        "![](https://pbs.twimg.com/media/DCIdebqW0AAIxm6?format=jpg&name=small)\n",
        "\n",
        "Source: https://twitter.com/teenybiscuit"
      ]
    },
    {
      "cell_type": "markdown",
      "metadata": {
        "id": "0aQdz5kBoNpc",
        "colab_type": "text"
      },
      "source": [
        "## CNN Layers\n",
        "---\n",
        "\n",
        "### Example Diagram\n",
        "![An Example CNN](https://codetolight.files.wordpress.com/2017/11/network.png?w=1108)\n",
        "\n",
        "Source: https://codetolight.wordpress.com/2017/11/29/getting-started-with-pytorch-for-deep-learning-part-3-neural-network-basics/\n",
        "\n",
        "\n",
        "\n",
        "### Convolution Layers\n",
        "\n",
        "- The convolution operation in a CNN is similar to the mathematical convolution of two functions to create a third function.\n",
        "\n",
        "\n",
        "\n",
        "- In the case of our image recognition we use a filter(blue) generated from a uniform distribution centered at 0. The purple image is the feature map. \n",
        "\n",
        "\n",
        "\n",
        "![](https://stanford.edu/~shervine/images/convolution-layer-a.png)\n",
        "\n",
        "Source: http://ufldl.stanford.edu/tutorial/supervised/FeatureExtractionUsingConvolution/\n",
        "\n",
        "### Activation Functions\n",
        "\n",
        "After each convolution an activation function is applied to elements of the matrix for two reasons:\n",
        "\n",
        "1. Introduce non-linearity into our model\n",
        "\n",
        "2. Improve computation time due the removal of negative floating point numbers\n",
        "\n",
        "Ex. \n",
        "\n",
        "![](https://www.embedded-vision.com/sites/default/files/technical-articles/CadenceCNN/Figure8.jpg)\n",
        "\n",
        "Source: https://www.embedded-vision.com/platinum-members/cadence/embedded-vision-training/documents/pages/neuralnetworksimagerecognition\n",
        "\n",
        "### Pooling Layers\n",
        "\n",
        "Pooling layers have two main benefits:\n",
        "\n",
        "1. Reduce computation time by reducing size of layers in the network.\n",
        "\n",
        "2. Preserves the detected features.\n",
        "\n",
        "![](https://stanford.edu/~shervine/images/max-pooling-a.png)\n",
        "\n",
        "\n",
        "### Drop-out Layers\n",
        "\n",
        "- Commonly used in fully connected networks to prevent overfitting and to improve computation time.\n",
        "\n",
        "- Often replaced by weight decay in Deep Networks.\n",
        "\n",
        "### Fully Connected Layers\n",
        "\n",
        "- After convolution and pooling layers the current weights are flattened and passed through a fully connected layer.\n",
        "\n",
        "- Usually after the fully connected layers we apply a high rate of dropout (in this case 50%) and pass the remaining values to an output activation function.\n",
        "\n",
        "![](https://stanford.edu/~shervine/images/fully-connected.png)\n",
        "\n",
        "\n",
        "\n",
        "Source: https://stanford.edu/~shervine/teaching/cs-230/cheatsheet-convolutional-neural-networks#layer\n",
        "\n",
        "### Output Layer (Softmax)\n",
        "\n",
        "- One of the most common output activation functions is softmax. \n",
        "- It is approximately a generalization of the logistic classifier\n",
        "\n",
        "Let $x \\in \\mathbb{R}^k$. The softmax function is defined as: \n",
        "\n",
        "$$\\vec{p}=\\begin{pmatrix} p_1\\\\ .\\\\ .\\\\ .\\\\ p_k\\end{pmatrix};\n",
        "p_i = \\frac{e^{x_i}}{\\sum_{j=1}^n e^{x_j}}$$\n"
      ]
    },
    {
      "cell_type": "markdown",
      "metadata": {
        "id": "XHQwcuCvuKxo",
        "colab_type": "text"
      },
      "source": [
        "# CNN Training In Browser\n",
        "\n",
        "---"
      ]
    },
    {
      "cell_type": "markdown",
      "metadata": {
        "id": "suGybNyutUGa",
        "colab_type": "text"
      },
      "source": [
        "## Google Colab has Custom Package Installation"
      ]
    },
    {
      "cell_type": "code",
      "metadata": {
        "id": "eRX3LEg4D-3F",
        "colab_type": "code",
        "outputId": "9eb58cb9-eba6-4d29-f8bc-56d293c49dca",
        "colab": {
          "base_uri": "https://localhost:8080/",
          "height": 217
        }
      },
      "source": [
        "# Install non-native packages\n",
        "!pip install keras-tqdm\n",
        "!pip install pillow"
      ],
      "execution_count": 122,
      "outputs": [
        {
          "output_type": "stream",
          "text": [
            "Requirement already satisfied: keras-tqdm in /usr/local/lib/python3.6/dist-packages (2.0.1)\n",
            "Requirement already satisfied: Keras in /usr/local/lib/python3.6/dist-packages (from keras-tqdm) (2.2.5)\n",
            "Requirement already satisfied: tqdm in /usr/local/lib/python3.6/dist-packages (from keras-tqdm) (4.28.1)\n",
            "Requirement already satisfied: scipy>=0.14 in /usr/local/lib/python3.6/dist-packages (from Keras->keras-tqdm) (1.3.1)\n",
            "Requirement already satisfied: numpy>=1.9.1 in /usr/local/lib/python3.6/dist-packages (from Keras->keras-tqdm) (1.16.5)\n",
            "Requirement already satisfied: keras-applications>=1.0.8 in /usr/local/lib/python3.6/dist-packages (from Keras->keras-tqdm) (1.0.8)\n",
            "Requirement already satisfied: h5py in /usr/local/lib/python3.6/dist-packages (from Keras->keras-tqdm) (2.8.0)\n",
            "Requirement already satisfied: pyyaml in /usr/local/lib/python3.6/dist-packages (from Keras->keras-tqdm) (3.13)\n",
            "Requirement already satisfied: keras-preprocessing>=1.1.0 in /usr/local/lib/python3.6/dist-packages (from Keras->keras-tqdm) (1.1.0)\n",
            "Requirement already satisfied: six>=1.9.0 in /usr/local/lib/python3.6/dist-packages (from Keras->keras-tqdm) (1.12.0)\n",
            "Requirement already satisfied: pillow in /usr/local/lib/python3.6/dist-packages (4.3.0)\n",
            "Requirement already satisfied: olefile in /usr/local/lib/python3.6/dist-packages (from pillow) (0.46)\n"
          ],
          "name": "stdout"
        }
      ]
    },
    {
      "cell_type": "markdown",
      "metadata": {
        "id": "upDN5FQZb-CB",
        "colab_type": "text"
      },
      "source": [
        "## Google Colab has Several Pre-installed Packages\n",
        "\n",
        "Here we import Keras, SKlearn, and TensorFlow all without having to go through all the time consuming local installation. \n"
      ]
    },
    {
      "cell_type": "code",
      "metadata": {
        "id": "fSnLvFlARexO",
        "colab_type": "code",
        "outputId": "cf9c5cb5-9322-4186-8d9b-988fbff9e092",
        "colab": {
          "base_uri": "https://localhost:8080/",
          "height": 33
        }
      },
      "source": [
        "# Source of original: https://www.kaggle.com/yassineghouzam/introduction-to-cnn-keras-0-997-top-6\n",
        "# This notebook is modified to run by fetching data from openml instead of csv\n",
        "\n",
        "# import packages\n",
        "import os\n",
        "import pandas as pd\n",
        "import numpy as np\n",
        "import matplotlib.pyplot as plt\n",
        "import seaborn as sns\n",
        "import itertools\n",
        "from PIL import Image\n",
        "import glob\n",
        "from numpy.random import seed\n",
        "seed(1775)\n",
        "\n",
        "from sklearn.model_selection import train_test_split\n",
        "from sklearn.metrics import confusion_matrix\n",
        "from sklearn.datasets import fetch_openml\n",
        "from sklearn import preprocessing\n",
        "\n",
        "import tensorflow as tf\n",
        "from keras_tqdm import TQDMNotebookCallback\n",
        "from keras.utils.np_utils import to_categorical\n",
        "from keras.models import Sequential\n",
        "from keras.layers import Dense, Dropout, Flatten, MaxPool2D\n",
        "from keras.layers.convolutional import Conv2D\n",
        "from keras.optimizers import RMSprop\n",
        "from keras.preprocessing.image import ImageDataGenerator\n",
        "from keras.callbacks import ReduceLROnPlateau\n",
        "print(\"Tensorflow version \" + tf.__version__)\n"
      ],
      "execution_count": 145,
      "outputs": [
        {
          "output_type": "stream",
          "text": [
            "Tensorflow version 1.14.0\n"
          ],
          "name": "stdout"
        }
      ]
    },
    {
      "cell_type": "markdown",
      "metadata": {
        "id": "5K8JHlecUPtw",
        "colab_type": "text"
      },
      "source": [
        "## Verify That We're Using Our TPU or GPU\n",
        "\n",
        "![]('../hosted-runtime.PNG')\n",
        "\n",
        "\n",
        "\n",
        "\n",
        "\n",
        "\n",
        "\n"
      ]
    },
    {
      "cell_type": "code",
      "metadata": {
        "id": "-n-k9qlEUGYw",
        "colab_type": "code",
        "outputId": "8cb2f9e0-aa0e-4bc9-c9db-00e6050a9631",
        "colab": {
          "base_uri": "https://localhost:8080/",
          "height": 50
        }
      },
      "source": [
        "# Detect TPU, GPU, or CPU hardware\n",
        "try:\n",
        "  tpu = tf.distribute.cluster_resolver.TPUClusterResolver() # TPU detection\n",
        "except ValueError:\n",
        "  tpu = None\n",
        "  gpus = tf.config.experimental.list_logical_devices(\"GPU\")\n",
        "    \n",
        "# Select appropriate distribution strategy\n",
        "if tpu:\n",
        "  tf.tpu.experimental.initialize_tpu_system(tpu)\n",
        "  strategy = tf.distribute.experimental.TPUStrategy(tpu, steps_per_run=128) # Going back and forth between TPU and host is expensive. Better to run 128 batches on the TPU before reporting back.\n",
        "  print('Running on TPU ', tpu.cluster_spec().as_dict()['worker'])  \n",
        "elif len(gpus) > 1:\n",
        "  strategy = tf.distribute.MirroredStrategy([gpu.name for gpu in gpus])\n",
        "  print('Running on multiple GPUs ', [gpu.name for gpu in gpus])\n",
        "elif len(gpus) == 1:\n",
        "  strategy = tf.distribute.get_strategy() # default strategy that works on CPU and single GPU\n",
        "  print('Running on single GPU ', gpus[0].name)\n",
        "else:\n",
        "  strategy = tf.distribute.get_strategy() # default strategy that works on CPU and single GPU\n",
        "  print('Running on CPU')\n",
        "print(\"Number of accelerators: \", strategy.num_replicas_in_sync)"
      ],
      "execution_count": 124,
      "outputs": [
        {
          "output_type": "stream",
          "text": [
            "Running on single GPU  /job:localhost/replica:0/task:0/device:GPU:0\n",
            "Number of accelerators:  1\n"
          ],
          "name": "stdout"
        }
      ]
    },
    {
      "cell_type": "markdown",
      "metadata": {
        "id": "OcLJyzqHcdwP",
        "colab_type": "text"
      },
      "source": [
        "## Let's Get to (Machine) Learning"
      ]
    },
    {
      "cell_type": "code",
      "metadata": {
        "id": "gFMlFrTGVC-N",
        "colab_type": "code",
        "colab": {}
      },
      "source": [
        "# Load the MNIST data from openml\n",
        "X,y = fetch_openml('mnist_784', version=1, cache=True,return_X_y=True) # Pull the mnist dataset"
      ],
      "execution_count": 0,
      "outputs": []
    },
    {
      "cell_type": "code",
      "metadata": {
        "id": "OeSgdqVhXqaL",
        "colab_type": "code",
        "outputId": "782689c9-730a-4393-8d70-b3edde5eb81e",
        "colab": {
          "base_uri": "https://localhost:8080/",
          "height": 286
        }
      },
      "source": [
        "# Check distribution before subsampling\n",
        "y_num = y.astype('int64')\n",
        "sns.countplot(y_num)"
      ],
      "execution_count": 147,
      "outputs": [
        {
          "output_type": "execute_result",
          "data": {
            "text/plain": [
              "<matplotlib.axes._subplots.AxesSubplot at 0x7f2a20fd4828>"
            ]
          },
          "metadata": {
            "tags": []
          },
          "execution_count": 147
        },
        {
          "output_type": "display_data",
          "data": {
            "image/png": "[encoded data removed]",
            "text/plain": [
              "<Figure size 432x288 with 1 Axes>"
            ]
          },
          "metadata": {
            "tags": []
          }
        }
      ]
    },
    {
      "cell_type": "markdown",
      "metadata": {
        "id": "JWCkiNBWSozI",
        "colab_type": "text"
      },
      "source": [
        "## Data Subsetting\n",
        "---"
      ]
    },
    {
      "cell_type": "code",
      "metadata": {
        "id": "8eo2rTFRkvTi",
        "colab_type": "code",
        "colab": {}
      },
      "source": [
        "# # Subset the data so we get training in some reasonable time for presentation\n",
        "# X_sub, y_sub = X[:70000],y[:70000]\n",
        "\n",
        "# # Check to see that there's no crazy imbalance caused by subsetting\n",
        "# sns.countplot(y_sub)"
      ],
      "execution_count": 0,
      "outputs": []
    },
    {
      "cell_type": "code",
      "metadata": {
        "id": "KXD8GzRI5Kkv",
        "colab_type": "code",
        "colab": {}
      },
      "source": [
        "# # Set the subsets to the original variable names\n",
        "# X = X_sub\n",
        "# y = y_sub"
      ],
      "execution_count": 0,
      "outputs": []
    },
    {
      "cell_type": "code",
      "metadata": {
        "id": "MNO8qgkYJQgB",
        "colab_type": "code",
        "outputId": "6653120b-a404-47ab-c198-ce28f256a7ff",
        "colab": {
          "base_uri": "https://localhost:8080/",
          "height": 50
        }
      },
      "source": [
        "print(f'x shape: {X.shape},\\ny shape: {y.shape}')"
      ],
      "execution_count": 150,
      "outputs": [
        {
          "output_type": "stream",
          "text": [
            "x shape: (70000, 784),\n",
            "y shape: (70000,)\n"
          ],
          "name": "stdout"
        }
      ]
    },
    {
      "cell_type": "markdown",
      "metadata": {
        "id": "x8TnMBa7TvWs",
        "colab_type": "text"
      },
      "source": [
        "## Data Transformation\n",
        "\n",
        "Here we rescale the data to the range [0,1] to improve the convergence properties of the learning process."
      ]
    },
    {
      "cell_type": "code",
      "metadata": {
        "id": "rQzW0Qa0KHPW",
        "colab_type": "code",
        "colab": {}
      },
      "source": [
        "# Normalize the data\n",
        "X_norm = preprocessing.normalize(X)"
      ],
      "execution_count": 0,
      "outputs": []
    },
    {
      "cell_type": "code",
      "metadata": {
        "id": "slryivLMpwJt",
        "colab_type": "code",
        "colab": {}
      },
      "source": [
        "# Split the training and test sets\n",
        "y = to_categorical(y,num_classes=10)\n",
        "X_train, X_test, y_train, y_test = train_test_split(X_norm,y,\n",
        "                                                    test_size = 0.25,\n",
        "                                                    random_state=1775)\n",
        "assert(X_train.shape[0]+X_test.shape[0] == X.shape[0]) # Checks that the split was successful"
      ],
      "execution_count": 0,
      "outputs": []
    },
    {
      "cell_type": "code",
      "metadata": {
        "id": "-pByHC_FqhgJ",
        "colab_type": "code",
        "colab": {}
      },
      "source": [
        "# Reshape the 1D vectors (length 784) from mnist into matricies (tensor)\n",
        "X_train = X_train.reshape(-1,28,28,1) \n",
        "X_test = X_test.reshape(-1,28,28,1)"
      ],
      "execution_count": 0,
      "outputs": []
    },
    {
      "cell_type": "code",
      "metadata": {
        "id": "qOL75e7lNdK-",
        "colab_type": "code",
        "outputId": "040731e5-432b-481d-ba16-313747a1083c",
        "colab": {
          "base_uri": "https://localhost:8080/",
          "height": 286
        }
      },
      "source": [
        "# Check the image plot of the stored training data\n",
        "g = plt.imshow(X_train[0][:,:,0])\n",
        "y_train[0]"
      ],
      "execution_count": 133,
      "outputs": [
        {
          "output_type": "execute_result",
          "data": {
            "text/plain": [
              "array([0., 0., 0., 0., 0., 1., 0., 0., 0., 0.], dtype=float32)"
            ]
          },
          "metadata": {
            "tags": []
          },
          "execution_count": 133
        },
        {
          "output_type": "display_data",
          "data": {
            "image/png": "[encoded data removed]",
            "text/plain": [
              "<Figure size 432x288 with 1 Axes>"
            ]
          },
          "metadata": {
            "tags": []
          }
        }
      ]
    },
    {
      "cell_type": "markdown",
      "metadata": {
        "id": "U1_om6n4cnRS",
        "colab_type": "text"
      },
      "source": [
        "## Keras Model Definition"
      ]
    },
    {
      "cell_type": "code",
      "metadata": {
        "id": "mn9bCZ2eRV6f",
        "colab_type": "code",
        "colab": {}
      },
      "source": [
        "# Build the model framework\n",
        "# Model Framework Source: https://www.kaggle.com/wrecked22/digit-recognizer-99-accuracy-using-cnn\n",
        "model = None # Clear model object\n",
        "model = Sequential()\n",
        "model.add(Conv2D(filters=32,\n",
        "                 kernel_size=(5,5), \n",
        "                 padding = 'Same',\n",
        "                 activation='relu',\n",
        "                 input_shape=(28,28,1)))\n",
        "model.add(Conv2D(filters=32,\n",
        "                 kernel_size=(5,5),\n",
        "                 padding='Same',\n",
        "                 activation='relu'))\n",
        "model.add(MaxPool2D(pool_size=(2,2)))\n",
        "model.add(Dropout(rate=0.25))\n",
        "model.add(Conv2D(filters=64,\n",
        "                 kernel_size=(3,3),\n",
        "                 padding = 'Same',\n",
        "                 activation='relu'))\n",
        "model.add(Conv2D(filters=64,\n",
        "                 kernel_size=(3,3),\n",
        "                 padding='Same',\n",
        "                 activation='relu'))\n",
        "model.add(MaxPool2D(pool_size=(2,2),\n",
        "                    strides=(2,2)))\n",
        "model.add(Dropout(rate=0.25))\n",
        "model.add(Flatten())\n",
        "model.add(Dense(256,activation='relu'))\n",
        "model.add(Dropout(0.5))\n",
        "model.add(Dense(10,activation='softmax'))"
      ],
      "execution_count": 0,
      "outputs": []
    },
    {
      "cell_type": "code",
      "metadata": {
        "id": "41tHZdpoh5pC",
        "colab_type": "code",
        "outputId": "8950fb43-951a-4487-9277-48868040c3e2",
        "colab": {
          "base_uri": "https://localhost:8080/",
          "height": 552
        }
      },
      "source": [
        "model.summary() # Check that the model is defined correctly"
      ],
      "execution_count": 135,
      "outputs": [
        {
          "output_type": "stream",
          "text": [
            "Model: \"sequential_9\"\n",
            "_________________________________________________________________\n",
            "Layer (type)                 Output Shape              Param #   \n",
            "=================================================================\n",
            "conv2d_33 (Conv2D)           (None, 28, 28, 32)        832       \n",
            "_________________________________________________________________\n",
            "conv2d_34 (Conv2D)           (None, 28, 28, 32)        25632     \n",
            "_________________________________________________________________\n",
            "max_pooling2d_17 (MaxPooling (None, 14, 14, 32)        0         \n",
            "_________________________________________________________________\n",
            "dropout_25 (Dropout)         (None, 14, 14, 32)        0         \n",
            "_________________________________________________________________\n",
            "conv2d_35 (Conv2D)           (None, 14, 14, 64)        18496     \n",
            "_________________________________________________________________\n",
            "conv2d_36 (Conv2D)           (None, 14, 14, 64)        36928     \n",
            "_________________________________________________________________\n",
            "max_pooling2d_18 (MaxPooling (None, 7, 7, 64)          0         \n",
            "_________________________________________________________________\n",
            "dropout_26 (Dropout)         (None, 7, 7, 64)          0         \n",
            "_________________________________________________________________\n",
            "flatten_9 (Flatten)          (None, 3136)              0         \n",
            "_________________________________________________________________\n",
            "dense_17 (Dense)             (None, 256)               803072    \n",
            "_________________________________________________________________\n",
            "dropout_27 (Dropout)         (None, 256)               0         \n",
            "_________________________________________________________________\n",
            "dense_18 (Dense)             (None, 10)                2570      \n",
            "=================================================================\n",
            "Total params: 887,530\n",
            "Trainable params: 887,530\n",
            "Non-trainable params: 0\n",
            "_________________________________________________________________\n"
          ],
          "name": "stdout"
        }
      ]
    },
    {
      "cell_type": "code",
      "metadata": {
        "id": "zIouKkBj0OFF",
        "colab_type": "code",
        "colab": {}
      },
      "source": [
        "optimizer = RMSprop(lr=0.001,\n",
        "                    rho=0.9,\n",
        "                    epsilon=1e-08,\n",
        "                    decay=0.0)"
      ],
      "execution_count": 0,
      "outputs": []
    },
    {
      "cell_type": "code",
      "metadata": {
        "id": "cAFAnsbe1bQD",
        "colab_type": "code",
        "colab": {}
      },
      "source": [
        "# Model compilation\n",
        "model.compile(optimizer=optimizer, \n",
        "              loss = 'categorical_crossentropy',\n",
        "              metrics=[\"accuracy\"])"
      ],
      "execution_count": 0,
      "outputs": []
    },
    {
      "cell_type": "code",
      "metadata": {
        "id": "vlxnE5AU2MAt",
        "colab_type": "code",
        "colab": {}
      },
      "source": [
        "# Set number of epochs to run, generally more epochs gives higher accuracy\n",
        "epochs = 5 # Number of passes through the complete dataset\n",
        "batch_size = 64 # Number of training data to iterate through before updating params\n",
        "\n",
        "# Set a learning rate annealer\n",
        "learning_rate_reduction = ReduceLROnPlateau(monitor='val_acc', \n",
        "                                            patience=3, \n",
        "                                            verbose=1, \n",
        "                                            factor=0.5, \n",
        "                                            min_lr=0.00001)"
      ],
      "execution_count": 0,
      "outputs": []
    },
    {
      "cell_type": "markdown",
      "metadata": {
        "id": "NFLunEtoGYK4",
        "colab_type": "text"
      },
      "source": [
        "## Model Training"
      ]
    },
    {
      "cell_type": "code",
      "metadata": {
        "id": "CagvNDot2hBg",
        "colab_type": "code",
        "outputId": "1bb1b6e6-a5e2-4b9c-8893-ce4ee3765f34",
        "colab": {
          "base_uri": "https://localhost:8080/",
          "height": 217
        }
      },
      "source": [
        "# model fitting\n",
        "history =  model.fit(X_train,\n",
        "                     y_train,\n",
        "                     batch_size=batch_size,\n",
        "                     epochs=epochs,\n",
        "                     validation_data = (X_test,y_test),verbose=2, \n",
        "                     callbacks=[learning_rate_reduction,TQDMNotebookCallback()])"
      ],
      "execution_count": 139,
      "outputs": [
        {
          "output_type": "stream",
          "text": [
            "Train on 52500 samples, validate on 17500 samples\n"
          ],
          "name": "stdout"
        },
        {
          "output_type": "display_data",
          "data": {
            "application/vnd.jupyter.widget-view+json": {
              "model_id": "a585e95ea49949b28a5ee4bfab450763",
              "version_minor": 0,
              "version_major": 2
            },
            "text/plain": [
              "HBox(children=(IntProgress(value=0, description='Training', max=5, style=ProgressStyle(description_width='init…"
            ]
          },
          "metadata": {
            "tags": []
          }
        },
        {
          "output_type": "stream",
          "text": [
            "Epoch 1/5\n"
          ],
          "name": "stdout"
        },
        {
          "output_type": "display_data",
          "data": {
            "application/vnd.jupyter.widget-view+json": {
              "model_id": "7cf8abf46774448f898f681062472e52",
              "version_minor": 0,
              "version_major": 2
            },
            "text/plain": [
              "HBox(children=(IntProgress(value=0, description='Epoch 0', max=52500, style=ProgressStyle(description_width='i…"
            ]
          },
          "metadata": {
            "tags": []
          }
        },
        {
          "output_type": "stream",
          "text": [
            " - 8s - loss: 0.2194 - acc: 0.9293 - val_loss: 0.0598 - val_acc: 0.9819\n",
            "Epoch 2/5\n"
          ],
          "name": "stdout"
        },
        {
          "output_type": "display_data",
          "data": {
            "application/vnd.jupyter.widget-view+json": {
              "model_id": "eda35810cbdc4a65a10a9107b6f5ddcc",
              "version_minor": 0,
              "version_major": 2
            },
            "text/plain": [
              "HBox(children=(IntProgress(value=0, description='Epoch 1', max=52500, style=ProgressStyle(description_width='i…"
            ]
          },
          "metadata": {
            "tags": []
          }
        },
        {
          "output_type": "stream",
          "text": [
            " - 8s - loss: 0.0719 - acc: 0.9788 - val_loss: 0.0392 - val_acc: 0.9876\n",
            "Epoch 3/5\n"
          ],
          "name": "stdout"
        },
        {
          "output_type": "display_data",
          "data": {
            "application/vnd.jupyter.widget-view+json": {
              "model_id": "ea8997ac50cb41babe0294e78814366f",
              "version_minor": 0,
              "version_major": 2
            },
            "text/plain": [
              "HBox(children=(IntProgress(value=0, description='Epoch 2', max=52500, style=ProgressStyle(description_width='i…"
            ]
          },
          "metadata": {
            "tags": []
          }
        },
        {
          "output_type": "stream",
          "text": [
            " - 8s - loss: 0.0555 - acc: 0.9835 - val_loss: 0.0327 - val_acc: 0.9898\n",
            "Epoch 4/5\n"
          ],
          "name": "stdout"
        },
        {
          "output_type": "display_data",
          "data": {
            "application/vnd.jupyter.widget-view+json": {
              "model_id": "39330dc0e84c4a618153ba36734515e0",
              "version_minor": 0,
              "version_major": 2
            },
            "text/plain": [
              "HBox(children=(IntProgress(value=0, description='Epoch 3', max=52500, style=ProgressStyle(description_width='i…"
            ]
          },
          "metadata": {
            "tags": []
          }
        },
        {
          "output_type": "stream",
          "text": [
            " - 8s - loss: 0.0478 - acc: 0.9864 - val_loss: 0.0330 - val_acc: 0.9901\n",
            "Epoch 5/5\n"
          ],
          "name": "stdout"
        },
        {
          "output_type": "display_data",
          "data": {
            "application/vnd.jupyter.widget-view+json": {
              "model_id": "ab0e5e40bdcd4a5dbe48f9960d655646",
              "version_minor": 0,
              "version_major": 2
            },
            "text/plain": [
              "HBox(children=(IntProgress(value=0, description='Epoch 4', max=52500, style=ProgressStyle(description_width='i…"
            ]
          },
          "metadata": {
            "tags": []
          }
        },
        {
          "output_type": "stream",
          "text": [
            " - 8s - loss: 0.0422 - acc: 0.9878 - val_loss: 0.0275 - val_acc: 0.9919\n",
            "\n"
          ],
          "name": "stdout"
        }
      ]
    },
    {
      "cell_type": "code",
      "metadata": {
        "id": "y7XGFC53a7td",
        "colab_type": "code",
        "colab": {}
      },
      "source": [
        "from PIL import Image\n",
        "import glob\n",
        "image_list = []\n",
        "int_list = []\n",
        "for filename in glob.glob('/content/*.png'): #assuming gif\n",
        "    im=Image.open(filename).convert('L')\n",
        "    tail_string = filename.strip('/content/img-')\n",
        "    numeric_string = int(tail_string.strip('.p'))\n",
        "    int_list.append(numeric_string)\n",
        "    image_list.append(im)"
      ],
      "execution_count": 0,
      "outputs": []
    },
    {
      "cell_type": "code",
      "metadata": {
        "id": "rFgsy1p_0cPV",
        "colab_type": "code",
        "outputId": "acc51537-0ab6-46f1-8541-c5c05b5bacd1",
        "colab": {
          "base_uri": "https://localhost:8080/",
          "height": 297
        }
      },
      "source": [
        "for counter,img in enumerate(image_list):\n",
        "  display((img))"
      ],
      "execution_count": 141,
      "outputs": [
        {
          "output_type": "display_data",
          "data": {
            "image/png": "[encoded data removed]",
            "text/plain": [
              "<PIL.Image.Image image mode=L size=28x28 at 0x7F2A2100B630>"
            ]
          },
          "metadata": {
            "tags": []
          }
        },
        {
          "output_type": "display_data",
          "data": {
            "image/png": "[encoded data removed]",
            "text/plain": [
              "<PIL.Image.Image image mode=L size=28x28 at 0x7F2A216B6438>"
            ]
          },
          "metadata": {
            "tags": []
          }
        },
        {
          "output_type": "display_data",
          "data": {
            "image/png": "[encoded data removed]",
            "text/plain": [
              "<PIL.Image.Image image mode=L size=28x28 at 0x7F2A65817DD8>"
            ]
          },
          "metadata": {
            "tags": []
          }
        },
        {
          "output_type": "display_data",
          "data": {
            "image/png": "[encoded data removed]",
            "text/plain": [
              "<PIL.Image.Image image mode=L size=28x28 at 0x7F2A21DD1278>"
            ]
          },
          "metadata": {
            "tags": []
          }
        },
        {
          "output_type": "display_data",
          "data": {
            "image/png": "[encoded data removed]",
            "text/plain": [
              "<PIL.Image.Image image mode=L size=28x28 at 0x7F2A65817BA8>"
            ]
          },
          "metadata": {
            "tags": []
          }
        },
        {
          "output_type": "display_data",
          "data": {
            "image/png": "[encoded data removed]",
            "text/plain": [
              "<PIL.Image.Image image mode=L size=28x28 at 0x7F2A65817080>"
            ]
          },
          "metadata": {
            "tags": []
          }
        },
        {
          "output_type": "display_data",
          "data": {
            "image/png": "[encoded data removed]",
            "text/plain": [
              "<PIL.Image.Image image mode=L size=28x28 at 0x7F2A6519F438>"
            ]
          },
          "metadata": {
            "tags": []
          }
        },
        {
          "output_type": "display_data",
          "data": {
            "image/png": "[encoded data removed]",
            "text/plain": [
              "<PIL.Image.Image image mode=L size=28x28 at 0x7F2A6519F940>"
            ]
          },
          "metadata": {
            "tags": []
          }
        },
        {
          "output_type": "display_data",
          "data": {
            "image/png": "[encoded data removed]",
            "text/plain": [
              "<PIL.Image.Image image mode=L size=28x28 at 0x7F2A6519F908>"
            ]
          },
          "metadata": {
            "tags": []
          }
        },
        {
          "output_type": "display_data",
          "data": {
            "image/png": "[encoded data removed]",
            "text/plain": [
              "<PIL.Image.Image image mode=L size=28x28 at 0x7F2A2102B550>"
            ]
          },
          "metadata": {
            "tags": []
          }
        }
      ]
    },
    {
      "cell_type": "code",
      "metadata": {
        "id": "KbF61pEi1Ug6",
        "colab_type": "code",
        "colab": {}
      },
      "source": [
        "predict_list = []\n",
        "for i in image_list:\n",
        "  pred = model.predict(preprocessing.normalize((np.array(i))).reshape(-1,28,28,1))\n",
        "  predict_list.append(pred.argmax())"
      ],
      "execution_count": 0,
      "outputs": []
    },
    {
      "cell_type": "code",
      "metadata": {
        "id": "SSYKWVZNx3qR",
        "colab_type": "code",
        "colab": {
          "base_uri": "https://localhost:8080/",
          "height": 50
        },
        "outputId": "099c3c37-b42e-4f72-9515-97b75975f127"
      },
      "source": [
        "print('Actual:   ',int_list)\n",
        "print('Predicted:',predict_list)"
      ],
      "execution_count": 157,
      "outputs": [
        {
          "output_type": "stream",
          "text": [
            "Actual:    [5, 1, 8, 7, 6, 0, 2, 4, 3, 9]\n",
            "Predicted: [5, 1, 8, 7, 6, 9, 2, 8, 3, 9]\n"
          ],
          "name": "stdout"
        }
      ]
    },
    {
      "cell_type": "markdown",
      "metadata": {
        "id": "WHntd4FsBBvX",
        "colab_type": "text"
      },
      "source": [
        "# References\n",
        "\n",
        "* Deep Learning - Goodfellow-et-al-2016\n",
        "\n",
        "* http://cs231n.github.io/convolutional-networks/\n",
        "\n",
        "* https://towardsdatascience.com/a-comprehensive-guide-to-convolutional-neural-networks-the-eli5-way-3bd2b1164a53\n",
        "\n",
        "* Code: https://www.kaggle.com/wrecked22/digit-recognizer-99-accuracy-using-cnn\n"
      ]
    }
  ]
}