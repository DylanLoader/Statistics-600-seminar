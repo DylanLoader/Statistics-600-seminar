{
  "nbformat": 4,
  "nbformat_minor": 0,
  "metadata": {
    "colab": {
      "name": "stat-600-presentation.ipynb",
      "provenance": [],
      "collapsed_sections": [],
      "toc_visible": true,
      "include_colab_link": true
    },
    "kernelspec": {
      "name": "python3",
      "display_name": "Python 3"
    },
    "accelerator": "GPU"
  },
  "cells": [
    {
      "cell_type": "markdown",
      "metadata": {
        "id": "view-in-github",
        "colab_type": "text"
      },
      "source": [
        "<a href=\"https://colab.research.google.com/github/DylanLoader/Statistics-600-seminar/blob/master/stat_600_presentation.ipynb\" target=\"_parent\"><img src=\"https://colab.research.google.com/assets/colab-badge.svg\" alt=\"Open In Colab\"/></a>"
      ]
    },
    {
      "cell_type": "markdown",
      "metadata": {
        "id": "oTLZDP16S7pK",
        "colab_type": "text"
      },
      "source": [
        "# Image Classification with Google Colab\n",
        "## Presented by: Dylan Loader\n",
        "\n",
        "\n",
        "\n",
        "---\n",
        "\n",
        "\n",
        "\n",
        "---\n",
        "\n",
        "\n",
        "\n",
        "## What is Google Colaboratory?\n",
        "\n",
        "- A free google based notebook with Python2, Python3, and Markdown support\n",
        "- Google Drive Integration\n",
        "- Comes with a large number of pre-installed packages\n",
        "- Access to Graphics Processing Units (GPUs) and Tensor Processing Units (TPUs)\n",
        "- Easy error handling with Stackoverflow integration\n",
        "- Connectivity with cloud resources such as Google Cloud\n"
      ]
    },
    {
      "cell_type": "markdown",
      "metadata": {
        "id": "musU69zHihBN",
        "colab_type": "text"
      },
      "source": [
        "# The MNIST Handwritten Dataset\n",
        "\n",
        "---\n",
        "\n",
        "- The MNIST dataset consists of 70,000 black and white images of handwritten digits provided by Dr. Yann LeCun\n",
        "- The images are available as 28x28 pixel images (usually represented as 28x28x1 vector)\n",
        "\n",
        "![](https://upload.wikimedia.org/wikipedia/commons/2/27/MnistExamples.png)\n",
        "\n",
        "Source: https://upload.wikimedia.org/wikipedia/commons/2/27/MnistExamples.png\n",
        "\n",
        "![](https://koenig-media.raywenderlich.com/uploads/2018/01/firstXsample.png)\n",
        "Source: https://koenig-media.raywenderlich.com"
      ]
    },
    {
      "cell_type": "markdown",
      "metadata": {
        "id": "6_NWf_9CS3Ft",
        "colab_type": "text"
      },
      "source": [
        "# A 5-10 minute Crash Course in Convolutional Neural Nets (CNNs)\n",
        "\n",
        "---\n",
        "\n",
        "\n",
        "## Motivation for CNNs over NN\n",
        "\n",
        "- Good for sequentially related data (images/audio/text)\n",
        "- Ease of computing relative to large Neural Networks\n",
        "- Frequently used in Computer Vision\n",
        "- Generalize better to data that is distrorted such as rotations and blur\n",
        "\n",
        "\n",
        "\n",
        "#### Ex. Labradoodle vs. Fried Chicken\n",
        "\n",
        "![](https://pbs.twimg.com/media/DCIdebqW0AAIxm6?format=jpg&name=small)\n",
        "\n",
        "Source: https://twitter.com/teenybiscuit"
      ]
    },
    {
      "cell_type": "markdown",
      "metadata": {
        "id": "0aQdz5kBoNpc",
        "colab_type": "text"
      },
      "source": [
        "## CNN Layers\n",
        "---\n",
        "\n",
        "### Example Diagram\n",
        "![An Example CNN](https://codetolight.files.wordpress.com/2017/11/network.png?w=1108)\n",
        "\n",
        "Source: https://codetolight.wordpress.com/2017/11/29/getting-started-with-pytorch-for-deep-learning-part-3-neural-network-basics/\n",
        "\n",
        "\n",
        "\n",
        "### Convolution Layers\n",
        "\n",
        "- The convolution operation in a CNN is similar to the mathematical convolution of two functions to create a third function.\n",
        "\n",
        "\n",
        "\n",
        "- In the case of our image recognition we use a filter(blue) generated from a uniform distribution centered at 0. The purple image is the feature map. \n",
        "\n",
        "\n",
        "\n",
        "![](https://stanford.edu/~shervine/images/convolution-layer-a.png)\n",
        "\n",
        "Source: http://ufldl.stanford.edu/tutorial/supervised/FeatureExtractionUsingConvolution/\n",
        "\n",
        "### Activation Functions\n",
        "\n",
        "After each convolution an activation function is applied to elements of the matrix for two reasons:\n",
        "\n",
        "1. Introduce non-linearity into our model\n",
        "\n",
        "2. Improve computation time due the removal of negative floating point numbers\n",
        "\n",
        "Ex. \n",
        "\n",
        "![](https://www.embedded-vision.com/sites/default/files/technical-articles/CadenceCNN/Figure8.jpg)\n",
        "\n",
        "Source: https://www.embedded-vision.com/platinum-members/cadence/embedded-vision-training/documents/pages/neuralnetworksimagerecognition\n",
        "\n",
        "### Pooling Layers\n",
        "\n",
        "Pooling layers have two main benefits:\n",
        "\n",
        "1. Reduce computation time by reducing size of layers in the network.\n",
        "\n",
        "2. Preserves the detected features.\n",
        "\n",
        "![](https://stanford.edu/~shervine/images/max-pooling-a.png)\n",
        "\n",
        "\n",
        "### Drop-out Layers\n",
        "\n",
        "- Commonly used in fully connected networks to prevent overfitting and to improve computation time.\n",
        "\n",
        "- Often replaced by weight decay in Deep Networks.\n",
        "\n",
        "### Fully Connected Layers\n",
        "\n",
        "- After convolution and pooling layers the current weights are flattened and passed through a fully connected layer.\n",
        "\n",
        "- Usually after the fully connected layers we apply a high rate of dropout (in this case 50%) and pass the remaining values to an output activation function.\n",
        "\n",
        "![](https://stanford.edu/~shervine/images/fully-connected.png)\n",
        "\n",
        "\n",
        "\n",
        "Source: https://stanford.edu/~shervine/teaching/cs-230/cheatsheet-convolutional-neural-networks#layer\n",
        "\n",
        "### Output Layer (Softmax)\n",
        "\n",
        "- One of the most common output activation functions is softmax. \n",
        "- It is approximately a generalization of the logistic classifier\n",
        "\n",
        "Let $x \\in \\mathbb{R}^k$. The softmax function is defined as: \n",
        "\n",
        "$$\\vec{p}=\\begin{pmatrix} p_1\\\\ .\\\\ .\\\\ .\\\\ p_k\\end{pmatrix};\n",
        "p_i = \\frac{e^{x_i}}{\\sum_{j=1}^n e^{x_j}}$$\n"
      ]
    },
    {
      "cell_type": "markdown",
      "metadata": {
        "id": "XHQwcuCvuKxo",
        "colab_type": "text"
      },
      "source": [
        "# CNN Training In Browser\n",
        "\n",
        "---"
      ]
    },
    {
      "cell_type": "markdown",
      "metadata": {
        "id": "suGybNyutUGa",
        "colab_type": "text"
      },
      "source": [
        "## Google Colab has Custom Package Installation"
      ]
    },
    {
      "cell_type": "code",
      "metadata": {
        "id": "eRX3LEg4D-3F",
        "colab_type": "code",
        "colab": {}
      },
      "source": [
        "# Install non-native packages\n",
        "!pip install keras-tqdm\n",
        "!pip install pillow"
      ],
      "execution_count": 0,
      "outputs": []
    },
    {
      "cell_type": "markdown",
      "metadata": {
        "id": "upDN5FQZb-CB",
        "colab_type": "text"
      },
      "source": [
        "## Google Colab has Several Pre-installed Packages\n",
        "\n",
        "Here we import Keras, SKlearn, and TensorFlow all without having to go through all the time consuming local installation. \n"
      ]
    },
    {
      "cell_type": "code",
      "metadata": {
        "id": "fSnLvFlARexO",
        "colab_type": "code",
        "colab": {}
      },
      "source": [
        "# Source of original: https://www.kaggle.com/yassineghouzam/introduction-to-cnn-keras-0-997-top-6\n",
        "# This notebook is modified to run by fetching data from openml instead of csv\n",
        "\n",
        "# import packages\n",
        "import os\n",
        "import pandas as pd\n",
        "import numpy as np\n",
        "import matplotlib.pyplot as plt\n",
        "import seaborn as sns\n",
        "import itertools\n",
        "from PIL import Image\n",
        "import glob\n",
        "from numpy.random import seed\n",
        "seed(1775)\n",
        "\n",
        "from sklearn.model_selection import train_test_split\n",
        "from sklearn.metrics import confusion_matrix\n",
        "from sklearn.datasets import fetch_openml\n",
        "from sklearn import preprocessing\n",
        "\n",
        "import tensorflow as tf\n",
        "from keras_tqdm import TQDMNotebookCallback\n",
        "from keras.utils.np_utils import to_categorical\n",
        "from keras.models import Sequential\n",
        "from keras.layers import Dense, Dropout, Flatten, MaxPool2D\n",
        "from keras.layers.convolutional import Conv2D\n",
        "from keras.optimizers import RMSprop\n",
        "from keras.preprocessing.image import ImageDataGenerator\n",
        "from keras.callbacks import ReduceLROnPlateau\n",
        "print(\"Tensorflow version \" + tf.__version__)\n"
      ],
      "execution_count": 0,
      "outputs": []
    },
    {
      "cell_type": "markdown",
      "metadata": {
        "id": "5K8JHlecUPtw",
        "colab_type": "text"
      },
      "source": [
        "## Verify That We're Using Our TPU or GPU\n",
        "\n",
        "![]('../hosted-runtime.PNG')\n",
        "\n",
        "\n",
        "\n",
        "\n",
        "\n",
        "\n",
        "\n"
      ]
    },
    {
      "cell_type": "code",
      "metadata": {
        "id": "-n-k9qlEUGYw",
        "colab_type": "code",
        "colab": {}
      },
      "source": [
        "# Detect TPU, GPU, or CPU hardware\n",
        "try:\n",
        "  tpu = tf.distribute.cluster_resolver.TPUClusterResolver() # TPU detection\n",
        "except ValueError:\n",
        "  tpu = None\n",
        "  gpus = tf.config.experimental.list_logical_devices(\"GPU\")\n",
        "    \n",
        "# Select appropriate distribution strategy\n",
        "if tpu:\n",
        "  tf.tpu.experimental.initialize_tpu_system(tpu)\n",
        "  strategy = tf.distribute.experimental.TPUStrategy(tpu, steps_per_run=128) # Going back and forth between TPU and host is expensive. Better to run 128 batches on the TPU before reporting back.\n",
        "  print('Running on TPU ', tpu.cluster_spec().as_dict()['worker'])  \n",
        "elif len(gpus) > 1:\n",
        "  strategy = tf.distribute.MirroredStrategy([gpu.name for gpu in gpus])\n",
        "  print('Running on multiple GPUs ', [gpu.name for gpu in gpus])\n",
        "elif len(gpus) == 1:\n",
        "  strategy = tf.distribute.get_strategy() # default strategy that works on CPU and single GPU\n",
        "  print('Running on single GPU ', gpus[0].name)\n",
        "else:\n",
        "  strategy = tf.distribute.get_strategy() # default strategy that works on CPU and single GPU\n",
        "  print('Running on CPU')\n",
        "print(\"Number of accelerators: \", strategy.num_replicas_in_sync)"
      ],
      "execution_count": 0,
      "outputs": []
    },
    {
      "cell_type": "markdown",
      "metadata": {
        "id": "OcLJyzqHcdwP",
        "colab_type": "text"
      },
      "source": [
        "## Let's Get to (Machine) Learning"
      ]
    },
    {
      "cell_type": "code",
      "metadata": {
        "id": "gFMlFrTGVC-N",
        "colab_type": "code",
        "colab": {}
      },
      "source": [
        "# Load the MNIST data from openml\n",
        "X,y = fetch_openml('mnist_784', version=1, cache=True,return_X_y=True) # Pull the mnist dataset"
      ],
      "execution_count": 0,
      "outputs": []
    },
    {
      "cell_type": "code",
      "metadata": {
        "id": "OeSgdqVhXqaL",
        "colab_type": "code",
        "colab": {}
      },
      "source": [
        "# Check distribution before subsampling\n",
        "y_num = y.astype('int64')\n",
        "sns.countplot(y_num)"
      ],
      "execution_count": 0,
      "outputs": []
    },
    {
      "cell_type": "markdown",
      "metadata": {
        "id": "JWCkiNBWSozI",
        "colab_type": "text"
      },
      "source": [
        "## Data Subsetting\n",
        "---"
      ]
    },
    {
      "cell_type": "code",
      "metadata": {
        "id": "8eo2rTFRkvTi",
        "colab_type": "code",
        "colab": {}
      },
      "source": [
        "# # Subset the data so we get training in some reasonable time for presentation\n",
        "# X_sub, y_sub = X[:70000],y[:70000]\n",
        "\n",
        "# # Check to see that there's no crazy imbalance caused by subsetting\n",
        "# sns.countplot(y_sub)"
      ],
      "execution_count": 0,
      "outputs": []
    },
    {
      "cell_type": "code",
      "metadata": {
        "id": "KXD8GzRI5Kkv",
        "colab_type": "code",
        "colab": {}
      },
      "source": [
        "# # Set the subsets to the original variable names\n",
        "# X = X_sub\n",
        "# y = y_sub"
      ],
      "execution_count": 0,
      "outputs": []
    },
    {
      "cell_type": "code",
      "metadata": {
        "id": "MNO8qgkYJQgB",
        "colab_type": "code",
        "colab": {}
      },
      "source": [
        "print(f'x shape: {X.shape},\\ny shape: {y.shape}')"
      ],
      "execution_count": 0,
      "outputs": []
    },
    {
      "cell_type": "markdown",
      "metadata": {
        "id": "x8TnMBa7TvWs",
        "colab_type": "text"
      },
      "source": [
        "## Data Transformation\n",
        "\n",
        "Here we rescale the data to the range [0,1] to improve the convergence properties of the learning process."
      ]
    },
    {
      "cell_type": "code",
      "metadata": {
        "id": "rQzW0Qa0KHPW",
        "colab_type": "code",
        "colab": {}
      },
      "source": [
        "# Normalize the data\n",
        "X_norm = preprocessing.normalize(X)"
      ],
      "execution_count": 0,
      "outputs": []
    },
    {
      "cell_type": "code",
      "metadata": {
        "id": "slryivLMpwJt",
        "colab_type": "code",
        "colab": {}
      },
      "source": [
        "# Split the training and test sets\n",
        "y = to_categorical(y,num_classes=10)\n",
        "X_train, X_test, y_train, y_test = train_test_split(X_norm,y,\n",
        "                                                    test_size = 0.25,\n",
        "                                                    random_state=1775)\n",
        "assert(X_train.shape[0]+X_test.shape[0] == X.shape[0]) # Checks that the split was successful"
      ],
      "execution_count": 0,
      "outputs": []
    },
    {
      "cell_type": "code",
      "metadata": {
        "id": "-pByHC_FqhgJ",
        "colab_type": "code",
        "colab": {}
      },
      "source": [
        "# Reshape the 1D vectors (length 784) from mnist into matricies (tensor)\n",
        "X_train = X_train.reshape(-1,28,28,1) \n",
        "X_test = X_test.reshape(-1,28,28,1)"
      ],
      "execution_count": 0,
      "outputs": []
    },
    {
      "cell_type": "code",
      "metadata": {
        "id": "qOL75e7lNdK-",
        "colab_type": "code",
        "colab": {}
      },
      "source": [
        "# Check the image plot of the stored training data\n",
        "g = plt.imshow(X_train[0][:,:,0])\n",
        "y_train[0]"
      ],
      "execution_count": 0,
      "outputs": []
    },
    {
      "cell_type": "markdown",
      "metadata": {
        "id": "U1_om6n4cnRS",
        "colab_type": "text"
      },
      "source": [
        "## Keras Model Definition"
      ]
    },
    {
      "cell_type": "code",
      "metadata": {
        "id": "mn9bCZ2eRV6f",
        "colab_type": "code",
        "colab": {}
      },
      "source": [
        "# Build the model framework\n",
        "# Model Framework Source: https://www.kaggle.com/wrecked22/digit-recognizer-99-accuracy-using-cnn\n",
        "model = None # Clear model object\n",
        "model = Sequential()\n",
        "model.add(Conv2D(filters=32,\n",
        "                 kernel_size=(5,5), \n",
        "                 padding = 'Same',\n",
        "                 activation='relu',\n",
        "                 input_shape=(28,28,1)))\n",
        "model.add(Conv2D(filters=32,\n",
        "                 kernel_size=(5,5),\n",
        "                 padding='Same',\n",
        "                 activation='relu'))\n",
        "model.add(MaxPool2D(pool_size=(2,2)))\n",
        "model.add(Dropout(rate=0.25))\n",
        "model.add(Conv2D(filters=64,\n",
        "                 kernel_size=(3,3),\n",
        "                 padding = 'Same',\n",
        "                 activation='relu'))\n",
        "model.add(Conv2D(filters=64,\n",
        "                 kernel_size=(3,3),\n",
        "                 padding='Same',\n",
        "                 activation='relu'))\n",
        "model.add(MaxPool2D(pool_size=(2,2),\n",
        "                    strides=(2,2)))\n",
        "model.add(Dropout(rate=0.25))\n",
        "model.add(Flatten())\n",
        "model.add(Dense(256,activation='relu'))\n",
        "model.add(Dropout(0.5))\n",
        "model.add(Dense(10,activation='softmax'))"
      ],
      "execution_count": 0,
      "outputs": []
    },
    {
      "cell_type": "code",
      "metadata": {
        "id": "41tHZdpoh5pC",
        "colab_type": "code",
        "colab": {}
      },
      "source": [
        "model.summary() # Check that the model is defined correctly"
      ],
      "execution_count": 0,
      "outputs": []
    },
    {
      "cell_type": "code",
      "metadata": {
        "id": "zIouKkBj0OFF",
        "colab_type": "code",
        "colab": {}
      },
      "source": [
        "optimizer = RMSprop(lr=0.001,\n",
        "                    rho=0.9,\n",
        "                    epsilon=1e-08,\n",
        "                    decay=0.0)"
      ],
      "execution_count": 0,
      "outputs": []
    },
    {
      "cell_type": "markdown",
      "metadata": {
        "id": "lGibsQXeKw3x",
        "colab_type": "text"
      },
      "source": [
        "### Categorical Crossentropy\n",
        "\n",
        "$$-\\sum_{c=1}^My_{o,c}\\log(p_{o,c})$$\n",
        "\n",
        "- M - number of classes (dog, cat, fish)\n",
        "- log - the natural log\n",
        "- y - binary indicator (0 or 1) if class label c is the correct classification for observation o\n",
        "- p - predicted probability observation o is of class c"
      ]
    },
    {
      "cell_type": "code",
      "metadata": {
        "id": "cAFAnsbe1bQD",
        "colab_type": "code",
        "colab": {}
      },
      "source": [
        "# Model compilation\n",
        "model.compile(optimizer=optimizer, \n",
        "              loss = 'categorical_crossentropy',\n",
        "              metrics=[\"accuracy\"])"
      ],
      "execution_count": 0,
      "outputs": []
    },
    {
      "cell_type": "code",
      "metadata": {
        "id": "vlxnE5AU2MAt",
        "colab_type": "code",
        "colab": {}
      },
      "source": [
        "# Set number of epochs to run, generally more epochs gives higher accuracy\n",
        "epochs = 5 # Number of passes through the complete dataset\n",
        "batch_size = 64 # Number of training data to iterate through before updating params\n",
        "\n",
        "# Set a learning rate annealer\n",
        "learning_rate_reduction = ReduceLROnPlateau(monitor='val_acc', \n",
        "                                            patience=3, \n",
        "                                            verbose=1, \n",
        "                                            factor=0.5, \n",
        "                                            min_lr=0.00001)"
      ],
      "execution_count": 0,
      "outputs": []
    },
    {
      "cell_type": "markdown",
      "metadata": {
        "id": "NFLunEtoGYK4",
        "colab_type": "text"
      },
      "source": [
        "## Model Training"
      ]
    },
    {
      "cell_type": "code",
      "metadata": {
        "id": "CagvNDot2hBg",
        "colab_type": "code",
        "colab": {}
      },
      "source": [
        "# model fitting\n",
        "history =  model.fit(X_train,\n",
        "                     y_train,\n",
        "                     batch_size=batch_size,\n",
        "                     epochs=epochs,\n",
        "                     validation_data = (X_test,y_test),verbose=2, \n",
        "                     callbacks=[learning_rate_reduction,TQDMNotebookCallback()])"
      ],
      "execution_count": 0,
      "outputs": []
    },
    {
      "cell_type": "code",
      "metadata": {
        "id": "y7XGFC53a7td",
        "colab_type": "code",
        "colab": {}
      },
      "source": [
        "from PIL import Image\n",
        "import glob\n",
        "image_list = []\n",
        "int_list = []\n",
        "for filename in glob.glob('/content/*.png'): #assuming gif\n",
        "    im=Image.open(filename).convert('L')\n",
        "    tail_string = filename.strip('/content/img-')\n",
        "    numeric_string = int(tail_string.strip('.p'))\n",
        "    int_list.append(numeric_string)\n",
        "    image_list.append(im)"
      ],
      "execution_count": 0,
      "outputs": []
    },
    {
      "cell_type": "code",
      "metadata": {
        "id": "rFgsy1p_0cPV",
        "colab_type": "code",
        "colab": {}
      },
      "source": [
        "for counter,img in enumerate(image_list):\n",
        "  display((img))"
      ],
      "execution_count": 0,
      "outputs": []
    },
    {
      "cell_type": "code",
      "metadata": {
        "id": "KbF61pEi1Ug6",
        "colab_type": "code",
        "colab": {}
      },
      "source": [
        "predict_list = []\n",
        "for i in image_list:\n",
        "  pred = model.predict(preprocessing.normalize((np.array(i))).reshape(-1,28,28,1))\n",
        "  predict_list.append(pred.argmax())"
      ],
      "execution_count": 0,
      "outputs": []
    },
    {
      "cell_type": "code",
      "metadata": {
        "id": "SSYKWVZNx3qR",
        "colab_type": "code",
        "colab": {}
      },
      "source": [
        "print('Actual:   ',int_list)\n",
        "print('Predicted:',predict_list)"
      ],
      "execution_count": 0,
      "outputs": []
    },
    {
      "cell_type": "markdown",
      "metadata": {
        "id": "WHntd4FsBBvX",
        "colab_type": "text"
      },
      "source": [
        "# References\n",
        "\n",
        "* Deep Learning - Goodfellow-et-al-2016\n",
        "\n",
        "* http://cs231n.github.io/convolutional-networks/\n",
        "\n",
        "* https://towardsdatascience.com/a-comprehensive-guide-to-convolutional-neural-networks-the-eli5-way-3bd2b1164a53\n",
        "\n",
        "* Code: https://www.kaggle.com/wrecked22/digit-recognizer-99-accuracy-using-cnn\n"
      ]
    }
  ]
}